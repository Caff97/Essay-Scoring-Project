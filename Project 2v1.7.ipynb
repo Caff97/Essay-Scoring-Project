{
 "cells": [
  {
   "cell_type": "markdown",
   "id": "02063f60-0878-422d-be76-1dd2489f5a1b",
   "metadata": {},
   "source": [
    "**F78DS Coursework 2** <br>\n",
    "**Connor McCaffery** <br>\n",
    "**H00190287**"
   ]
  },
  {
   "cell_type": "markdown",
   "id": "65bc8853-69e3-4fc1-b57e-cbec3c3c93a3",
   "metadata": {},
   "source": [
    "# Introduction"
   ]
  },
  {
   "cell_type": "markdown",
   "id": "5e2a8899-95f0-4bb3-87eb-641c081a1d06",
   "metadata": {},
   "source": [
    "This project explores model building and validation in machine learning, focusing on key concepts such as supervised vs. unsupervised learning, the distinction between labels and features, and the differences between binary and multiclass classification. Our project will use a dataset that consists of student essays scored from 1 to 6, alongside various features such as word count and punctuation usage.<br>\n",
    "<br>\n",
    "Our goal is to develop a machine learning model capable of accurately predicting essay scores for unseen data. We will experiment with classification algorithms, including Naive Bayes and Random Forest, and evaluate their performance using the Quadratic Weighted Kappa score. A crucial aspect of this study is feature selection, as identifying the most relevant features can significantly enhance model accuracy. Additionally, we will employ cross-validation techniques to improve model robustness and generalisability. To gain deeper insights into our model’s performance, we will visualise results using confusion matrices. Through this project, we aim to demonstrate effective techniques for handling data in machine learning while refining predictive models for automated essay scoring. The first thing to do is to import the libraries that will be required for this project."
   ]
  },
  {
   "cell_type": "markdown",
   "id": "c7c0493d-c2bf-4f56-a33a-dbdd35bd36fd",
   "metadata": {},
   "source": [
    "# Importing Libraries"
   ]
  },
  {
   "cell_type": "markdown",
   "id": "e9e76932-a215-43c9-9d4e-94ee02f89c32",
   "metadata": {},
   "source": [
    "**Matplotlib**"
   ]
  },
  {
   "cell_type": "code",
   "execution_count": 1,
   "id": "fa483d6a-5d32-4909-9c8c-f2c5b4b59f58",
   "metadata": {},
   "outputs": [],
   "source": [
    "from matplotlib import pyplot as plt"
   ]
  },
  {
   "cell_type": "markdown",
   "id": "0e0cc6e1-460a-421b-a309-74b437654efc",
   "metadata": {},
   "source": [
    "We will be using pyplot a few times throughout this project. The main use of this library will be to contruct confusion matrices."
   ]
  },
  {
   "cell_type": "markdown",
   "id": "c4d878d8-5bbd-4b37-b985-b3a0cc4f13c9",
   "metadata": {},
   "source": [
    "**Pandas**"
   ]
  },
  {
   "cell_type": "code",
   "execution_count": 2,
   "id": "8774add7-775f-4cc1-a228-7d761b10d0bb",
   "metadata": {},
   "outputs": [],
   "source": [
    "import pandas as pd"
   ]
  },
  {
   "cell_type": "markdown",
   "id": "1f5f267d-dc42-4ace-8c99-b7056b0703ee",
   "metadata": {},
   "source": [
    "Pandas is essential for data analysis, offering powerful DataFrame functionality for organising and manipulating structured data. It allows us to efficiently read csv files, and also will come in handy during our feature selection part of the project. "
   ]
  },
  {
   "cell_type": "markdown",
   "id": "d55e3f64-9101-4ee4-a2be-f2ff7c906fe6",
   "metadata": {},
   "source": [
    "**Scikit-Learn**"
   ]
  },
  {
   "cell_type": "code",
   "execution_count": 3,
   "id": "1d06c659-313c-41f7-b151-0577528a4817",
   "metadata": {},
   "outputs": [],
   "source": [
    "from sklearn.preprocessing import StandardScaler\n",
    "from sklearn.model_selection import train_test_split\n",
    "from sklearn.naive_bayes import GaussianNB\n",
    "from sklearn.metrics import confusion_matrix, cohen_kappa_score, accuracy_score, make_scorer\n",
    "from sklearn.ensemble import RandomForestClassifier\n",
    "from sklearn.model_selection import KFold, cross_val_score"
   ]
  },
  {
   "cell_type": "markdown",
   "id": "22739a1a-72d6-4427-b2ae-f205fe00fe25",
   "metadata": {},
   "source": [
    "We will be utilising scikit-learn extensively throughout this project. It will play a key role in several tasks, including performing z-score scaling, efficiently splitting the data into training and testing sets, and implementing the Gaussian Naive Bayes model. Additionally, scikit-learn will help us construct confusion matrices, calculate evaluation metrics such as Cohen's Kappa and accuracy scores, and ultimately apply the Random Forest algorithm for making predictions."
   ]
  },
  {
   "cell_type": "markdown",
   "id": "cc4b6f41-d007-404c-98d7-79b8e35d8cb0",
   "metadata": {},
   "source": [
    "Now we have imported all of the necessary libraries for this project."
   ]
  },
  {
   "cell_type": "markdown",
   "id": "7651b0b8-95dd-4c5d-8436-aca540b4466a",
   "metadata": {},
   "source": [
    "## Read the file"
   ]
  },
  {
   "cell_type": "markdown",
   "id": "5bdc95a1-21e4-43f1-9b68-39f6ecba6c52",
   "metadata": {},
   "source": [
    "Using the Pandas library, we can read the csv file to begin our project:"
   ]
  },
  {
   "cell_type": "code",
   "execution_count": 4,
   "id": "51db32b7-2037-4160-bb32-28fae95f2877",
   "metadata": {},
   "outputs": [
    {
     "data": {
      "text/html": [
       "<div>\n",
       "<style scoped>\n",
       "    .dataframe tbody tr th:only-of-type {\n",
       "        vertical-align: middle;\n",
       "    }\n",
       "\n",
       "    .dataframe tbody tr th {\n",
       "        vertical-align: top;\n",
       "    }\n",
       "\n",
       "    .dataframe thead th {\n",
       "        text-align: right;\n",
       "    }\n",
       "</style>\n",
       "<table border=\"1\" class=\"dataframe\">\n",
       "  <thead>\n",
       "    <tr style=\"text-align: right;\">\n",
       "      <th></th>\n",
       "      <th>essayid</th>\n",
       "      <th>chars</th>\n",
       "      <th>words</th>\n",
       "      <th>commas</th>\n",
       "      <th>apostrophes</th>\n",
       "      <th>punctuations</th>\n",
       "      <th>avg_word_length</th>\n",
       "      <th>sentences</th>\n",
       "      <th>questions</th>\n",
       "      <th>avg_word_sentence</th>\n",
       "      <th>POS</th>\n",
       "      <th>POS/total_words</th>\n",
       "      <th>prompt_words</th>\n",
       "      <th>prompt_words/total_words</th>\n",
       "      <th>synonym_words</th>\n",
       "      <th>synonym_words/total_words</th>\n",
       "      <th>unstemmed</th>\n",
       "      <th>stemmed</th>\n",
       "      <th>score</th>\n",
       "    </tr>\n",
       "  </thead>\n",
       "  <tbody>\n",
       "    <tr>\n",
       "      <th>0</th>\n",
       "      <td>1457</td>\n",
       "      <td>2153</td>\n",
       "      <td>426</td>\n",
       "      <td>14</td>\n",
       "      <td>6</td>\n",
       "      <td>0</td>\n",
       "      <td>5.053991</td>\n",
       "      <td>16</td>\n",
       "      <td>0</td>\n",
       "      <td>26.625000</td>\n",
       "      <td>423.995272</td>\n",
       "      <td>0.995294</td>\n",
       "      <td>207</td>\n",
       "      <td>0.485915</td>\n",
       "      <td>105</td>\n",
       "      <td>0.246479</td>\n",
       "      <td>424</td>\n",
       "      <td>412</td>\n",
       "      <td>4</td>\n",
       "    </tr>\n",
       "    <tr>\n",
       "      <th>1</th>\n",
       "      <td>503</td>\n",
       "      <td>1480</td>\n",
       "      <td>292</td>\n",
       "      <td>9</td>\n",
       "      <td>7</td>\n",
       "      <td>0</td>\n",
       "      <td>5.068493</td>\n",
       "      <td>11</td>\n",
       "      <td>0</td>\n",
       "      <td>26.545455</td>\n",
       "      <td>290.993103</td>\n",
       "      <td>0.996552</td>\n",
       "      <td>148</td>\n",
       "      <td>0.506849</td>\n",
       "      <td>77</td>\n",
       "      <td>0.263699</td>\n",
       "      <td>356</td>\n",
       "      <td>345</td>\n",
       "      <td>4</td>\n",
       "    </tr>\n",
       "    <tr>\n",
       "      <th>2</th>\n",
       "      <td>253</td>\n",
       "      <td>3964</td>\n",
       "      <td>849</td>\n",
       "      <td>19</td>\n",
       "      <td>26</td>\n",
       "      <td>1</td>\n",
       "      <td>4.669022</td>\n",
       "      <td>49</td>\n",
       "      <td>2</td>\n",
       "      <td>17.326531</td>\n",
       "      <td>843.990544</td>\n",
       "      <td>0.994100</td>\n",
       "      <td>285</td>\n",
       "      <td>0.335689</td>\n",
       "      <td>130</td>\n",
       "      <td>0.153121</td>\n",
       "      <td>750</td>\n",
       "      <td>750</td>\n",
       "      <td>4</td>\n",
       "    </tr>\n",
       "    <tr>\n",
       "      <th>3</th>\n",
       "      <td>107</td>\n",
       "      <td>988</td>\n",
       "      <td>210</td>\n",
       "      <td>8</td>\n",
       "      <td>7</td>\n",
       "      <td>0</td>\n",
       "      <td>4.704762</td>\n",
       "      <td>12</td>\n",
       "      <td>0</td>\n",
       "      <td>17.500000</td>\n",
       "      <td>207.653784</td>\n",
       "      <td>0.988828</td>\n",
       "      <td>112</td>\n",
       "      <td>0.533333</td>\n",
       "      <td>62</td>\n",
       "      <td>0.295238</td>\n",
       "      <td>217</td>\n",
       "      <td>209</td>\n",
       "      <td>3</td>\n",
       "    </tr>\n",
       "    <tr>\n",
       "      <th>4</th>\n",
       "      <td>1450</td>\n",
       "      <td>3139</td>\n",
       "      <td>600</td>\n",
       "      <td>13</td>\n",
       "      <td>8</td>\n",
       "      <td>0</td>\n",
       "      <td>5.231667</td>\n",
       "      <td>24</td>\n",
       "      <td>1</td>\n",
       "      <td>25.000000</td>\n",
       "      <td>594.652150</td>\n",
       "      <td>0.991087</td>\n",
       "      <td>255</td>\n",
       "      <td>0.425000</td>\n",
       "      <td>165</td>\n",
       "      <td>0.275000</td>\n",
       "      <td>702</td>\n",
       "      <td>677</td>\n",
       "      <td>4</td>\n",
       "    </tr>\n",
       "  </tbody>\n",
       "</table>\n",
       "</div>"
      ],
      "text/plain": [
       "   essayid  chars  words  commas  apostrophes  punctuations  avg_word_length  \\\n",
       "0     1457   2153    426      14            6             0         5.053991   \n",
       "1      503   1480    292       9            7             0         5.068493   \n",
       "2      253   3964    849      19           26             1         4.669022   \n",
       "3      107    988    210       8            7             0         4.704762   \n",
       "4     1450   3139    600      13            8             0         5.231667   \n",
       "\n",
       "   sentences  questions  avg_word_sentence         POS  POS/total_words  \\\n",
       "0         16          0          26.625000  423.995272         0.995294   \n",
       "1         11          0          26.545455  290.993103         0.996552   \n",
       "2         49          2          17.326531  843.990544         0.994100   \n",
       "3         12          0          17.500000  207.653784         0.988828   \n",
       "4         24          1          25.000000  594.652150         0.991087   \n",
       "\n",
       "   prompt_words  prompt_words/total_words  synonym_words  \\\n",
       "0           207                  0.485915            105   \n",
       "1           148                  0.506849             77   \n",
       "2           285                  0.335689            130   \n",
       "3           112                  0.533333             62   \n",
       "4           255                  0.425000            165   \n",
       "\n",
       "   synonym_words/total_words  unstemmed  stemmed  score  \n",
       "0                   0.246479        424      412      4  \n",
       "1                   0.263699        356      345      4  \n",
       "2                   0.153121        750      750      4  \n",
       "3                   0.295238        217      209      3  \n",
       "4                   0.275000        702      677      4  "
      ]
     },
     "execution_count": 4,
     "metadata": {},
     "output_type": "execute_result"
    }
   ],
   "source": [
    "data = pd.read_csv(\"F78DS-Essay-Features.csv\")\n",
    "data.head()"
   ]
  },
  {
   "cell_type": "markdown",
   "id": "7865f4db-12d3-4151-a880-79099ebe262b",
   "metadata": {},
   "source": [
    "This dataset is derived from a set of essays and is used to describe the essay features in numeric information. Each essay is scored from 1 to 6, with 6 being best. Above is the first five entries of our dataframe so that we can observe the features and label."
   ]
  },
  {
   "cell_type": "markdown",
   "id": "157aa407-7a51-4414-8519-ab87f85cfa60",
   "metadata": {},
   "source": [
    "## Supervised Learning"
   ]
  },
  {
   "cell_type": "markdown",
   "id": "a8e2d691-0afe-4052-8004-2fbdcceab0ee",
   "metadata": {},
   "source": [
    "Supervised learning is a machine learning technique where models are trained using labeled data, meaning that each input in the training set is paired with the correct output or label. This approach \"teaches\" the model to identify patterns or relationships between the inputs and their corresponding outputs. The goal of supervised learning is to enable the model to learn from these examples so that it can accurately predict the output for new, unseen inputs. Essentially, the aim is to create models that can generalise well and make reliable predictions on future data."
   ]
  },
  {
   "cell_type": "markdown",
   "id": "b83655cc-dac0-4b02-8c07-57264a6ab244",
   "metadata": {},
   "source": [
    "## Data Labelling"
   ]
  },
  {
   "cell_type": "markdown",
   "id": "e53a0b34-7595-4ad8-855e-e963a054d1db",
   "metadata": {},
   "source": [
    "Data labeling is the process of annotating data with meaningful tags or labels that provide context, allowing machine learning models to recognise patterns and make accurate predictions. This involves categorising or tagging various types of data - such as images, text, audio, or video - with relevant labels that describe their content or characteristics. By systematically labeling data, machine learning algorithms can learn from these annotations to improve model accuracy, identify trends, and enhance decision-making across a range of applications, including natural language processing, computer vision, and predictive analytics."
   ]
  },
  {
   "cell_type": "markdown",
   "id": "8efcc0dd-8c7f-4730-aa4e-db299461c66b",
   "metadata": {},
   "source": [
    "## Training and Test Datasets"
   ]
  },
  {
   "cell_type": "markdown",
   "id": "5c9b1c58-91af-46e7-b120-3b1d054c871a",
   "metadata": {},
   "source": [
    "The training dataset is a large sample of data used to train a machine learning model, allowing the algorithm to learn and build an effective model. The test dataset, typically a smaller portion, is used to evaluate the model's performance in an unbiased manner after it has been fully trained. The evaluation process involves calculating a measurable metric, often referred to as accuracy. The test dataset should only be used once the model has been trained with the training and/or validation datasets, ensuring that the evaluation reflects the model’s ability to generalise to unseen data."
   ]
  },
  {
   "cell_type": "markdown",
   "id": "71d2e83a-51a4-47ac-99da-eab9c767eb69",
   "metadata": {},
   "source": [
    "## Separating the features and the label"
   ]
  },
  {
   "cell_type": "markdown",
   "id": "428bc98c-690b-403a-a9a9-c699544948be",
   "metadata": {},
   "source": [
    "Features are the input variables used to make predictions, while the label is the target variable that you want to predict. In the code below, we remove the \"score\" column from the dataset since it represents the label. This step is essential for splitting the data into training and test sets, ensuring an unbiased evaluation of the model's performance. If we don't separate the label from the features, the model could mistakenly treat the label as an additional input feature, which would lead to incorrect training and potentially skew the results."
   ]
  },
  {
   "cell_type": "markdown",
   "id": "f89db989-c6c3-4107-89a0-bedb2cb78146",
   "metadata": {},
   "source": [
    "## Feature Selection"
   ]
  },
  {
   "cell_type": "markdown",
   "id": "0f6a6bac-0093-465c-9136-b1094912f5e7",
   "metadata": {},
   "source": [
    "Feature selection is the process of identifying and selecting the most relevant features from a dataset to improve the performance of a machine learning model. By removing irrelevant, redundant, or highly correlated features, we can reduce the complexity of the model, decrease overfitting, and potentially increase the model's accuracy."
   ]
  },
  {
   "cell_type": "code",
   "execution_count": 5,
   "id": "2185fb85-8584-4ea3-8bad-2c1c7f761198",
   "metadata": {},
   "outputs": [
    {
     "data": {
      "text/html": [
       "<div>\n",
       "<style scoped>\n",
       "    .dataframe tbody tr th:only-of-type {\n",
       "        vertical-align: middle;\n",
       "    }\n",
       "\n",
       "    .dataframe tbody tr th {\n",
       "        vertical-align: top;\n",
       "    }\n",
       "\n",
       "    .dataframe thead th {\n",
       "        text-align: right;\n",
       "    }\n",
       "</style>\n",
       "<table border=\"1\" class=\"dataframe\">\n",
       "  <thead>\n",
       "    <tr style=\"text-align: right;\">\n",
       "      <th></th>\n",
       "      <th>essayid</th>\n",
       "      <th>chars</th>\n",
       "      <th>words</th>\n",
       "      <th>commas</th>\n",
       "      <th>apostrophes</th>\n",
       "      <th>punctuations</th>\n",
       "      <th>avg_word_length</th>\n",
       "      <th>sentences</th>\n",
       "      <th>questions</th>\n",
       "      <th>avg_word_sentence</th>\n",
       "      <th>POS</th>\n",
       "      <th>POS/total_words</th>\n",
       "      <th>prompt_words</th>\n",
       "      <th>prompt_words/total_words</th>\n",
       "      <th>synonym_words</th>\n",
       "      <th>synonym_words/total_words</th>\n",
       "      <th>unstemmed</th>\n",
       "      <th>stemmed</th>\n",
       "      <th>score</th>\n",
       "    </tr>\n",
       "  </thead>\n",
       "  <tbody>\n",
       "    <tr>\n",
       "      <th>0</th>\n",
       "      <td>1457</td>\n",
       "      <td>2153</td>\n",
       "      <td>426</td>\n",
       "      <td>14</td>\n",
       "      <td>6</td>\n",
       "      <td>0</td>\n",
       "      <td>5.053991</td>\n",
       "      <td>16</td>\n",
       "      <td>0</td>\n",
       "      <td>26.625000</td>\n",
       "      <td>423.995272</td>\n",
       "      <td>0.995294</td>\n",
       "      <td>207</td>\n",
       "      <td>0.485915</td>\n",
       "      <td>105</td>\n",
       "      <td>0.246479</td>\n",
       "      <td>424</td>\n",
       "      <td>412</td>\n",
       "      <td>4</td>\n",
       "    </tr>\n",
       "    <tr>\n",
       "      <th>1</th>\n",
       "      <td>503</td>\n",
       "      <td>1480</td>\n",
       "      <td>292</td>\n",
       "      <td>9</td>\n",
       "      <td>7</td>\n",
       "      <td>0</td>\n",
       "      <td>5.068493</td>\n",
       "      <td>11</td>\n",
       "      <td>0</td>\n",
       "      <td>26.545455</td>\n",
       "      <td>290.993103</td>\n",
       "      <td>0.996552</td>\n",
       "      <td>148</td>\n",
       "      <td>0.506849</td>\n",
       "      <td>77</td>\n",
       "      <td>0.263699</td>\n",
       "      <td>356</td>\n",
       "      <td>345</td>\n",
       "      <td>4</td>\n",
       "    </tr>\n",
       "    <tr>\n",
       "      <th>2</th>\n",
       "      <td>253</td>\n",
       "      <td>3964</td>\n",
       "      <td>849</td>\n",
       "      <td>19</td>\n",
       "      <td>26</td>\n",
       "      <td>1</td>\n",
       "      <td>4.669022</td>\n",
       "      <td>49</td>\n",
       "      <td>2</td>\n",
       "      <td>17.326531</td>\n",
       "      <td>843.990544</td>\n",
       "      <td>0.994100</td>\n",
       "      <td>285</td>\n",
       "      <td>0.335689</td>\n",
       "      <td>130</td>\n",
       "      <td>0.153121</td>\n",
       "      <td>750</td>\n",
       "      <td>750</td>\n",
       "      <td>4</td>\n",
       "    </tr>\n",
       "    <tr>\n",
       "      <th>3</th>\n",
       "      <td>107</td>\n",
       "      <td>988</td>\n",
       "      <td>210</td>\n",
       "      <td>8</td>\n",
       "      <td>7</td>\n",
       "      <td>0</td>\n",
       "      <td>4.704762</td>\n",
       "      <td>12</td>\n",
       "      <td>0</td>\n",
       "      <td>17.500000</td>\n",
       "      <td>207.653784</td>\n",
       "      <td>0.988828</td>\n",
       "      <td>112</td>\n",
       "      <td>0.533333</td>\n",
       "      <td>62</td>\n",
       "      <td>0.295238</td>\n",
       "      <td>217</td>\n",
       "      <td>209</td>\n",
       "      <td>3</td>\n",
       "    </tr>\n",
       "    <tr>\n",
       "      <th>4</th>\n",
       "      <td>1450</td>\n",
       "      <td>3139</td>\n",
       "      <td>600</td>\n",
       "      <td>13</td>\n",
       "      <td>8</td>\n",
       "      <td>0</td>\n",
       "      <td>5.231667</td>\n",
       "      <td>24</td>\n",
       "      <td>1</td>\n",
       "      <td>25.000000</td>\n",
       "      <td>594.652150</td>\n",
       "      <td>0.991087</td>\n",
       "      <td>255</td>\n",
       "      <td>0.425000</td>\n",
       "      <td>165</td>\n",
       "      <td>0.275000</td>\n",
       "      <td>702</td>\n",
       "      <td>677</td>\n",
       "      <td>4</td>\n",
       "    </tr>\n",
       "  </tbody>\n",
       "</table>\n",
       "</div>"
      ],
      "text/plain": [
       "   essayid  chars  words  commas  apostrophes  punctuations  avg_word_length  \\\n",
       "0     1457   2153    426      14            6             0         5.053991   \n",
       "1      503   1480    292       9            7             0         5.068493   \n",
       "2      253   3964    849      19           26             1         4.669022   \n",
       "3      107    988    210       8            7             0         4.704762   \n",
       "4     1450   3139    600      13            8             0         5.231667   \n",
       "\n",
       "   sentences  questions  avg_word_sentence         POS  POS/total_words  \\\n",
       "0         16          0          26.625000  423.995272         0.995294   \n",
       "1         11          0          26.545455  290.993103         0.996552   \n",
       "2         49          2          17.326531  843.990544         0.994100   \n",
       "3         12          0          17.500000  207.653784         0.988828   \n",
       "4         24          1          25.000000  594.652150         0.991087   \n",
       "\n",
       "   prompt_words  prompt_words/total_words  synonym_words  \\\n",
       "0           207                  0.485915            105   \n",
       "1           148                  0.506849             77   \n",
       "2           285                  0.335689            130   \n",
       "3           112                  0.533333             62   \n",
       "4           255                  0.425000            165   \n",
       "\n",
       "   synonym_words/total_words  unstemmed  stemmed  score  \n",
       "0                   0.246479        424      412      4  \n",
       "1                   0.263699        356      345      4  \n",
       "2                   0.153121        750      750      4  \n",
       "3                   0.295238        217      209      3  \n",
       "4                   0.275000        702      677      4  "
      ]
     },
     "execution_count": 5,
     "metadata": {},
     "output_type": "execute_result"
    }
   ],
   "source": [
    "data.head()"
   ]
  },
  {
   "cell_type": "code",
   "execution_count": 6,
   "id": "7be8b7eb-a17c-457f-be8f-9adbc9c71e2a",
   "metadata": {},
   "outputs": [],
   "source": [
    "data_features = data.drop(columns=[\"score\", \"chars\", \"punctuations\"]) \n",
    "data_label = data[\"score\"] "
   ]
  },
  {
   "cell_type": "markdown",
   "id": "3394dd78-ce28-4c8e-9903-85ee0273d532",
   "metadata": {},
   "source": [
    "Since the \"punctuations\" column contains only the value 0 or 1, it may not provide enough variation to be useful for our machine learning model. A value of 0 likely indicates the absence of punctuation, while a value of 1 signifies its presence. However, this binary representation may not capture the complexity of punctuation usage, such as frequency or diversity, which could be more informative for essay scoring. <br>\n",
    "<br>\n",
    "One key aspect of feature selection is removing correlated features. When two or more features in the dataset are highly correlated, they essentially provide the same information to the model. This can cause instability in the model, making it difficult to interpret and affecting the accuracy of predictions. By removing one of the correlated features, we reduce redundancy and allow the model to focus on the most important, non-redundant features.\n",
    "<br>\n",
    "Intuitively, word count and character count are often correlated because longer essays typically contain more characters. To confirm this relationship, we can construct a scatterplot to visually examine the correlation between these two variables. A scatterplot will plot the word count on the x axis and the character count on the y axis, helping us observe any patterns or trends. If the points form a linear pattern, it would suggest a strong correlation between word count and character count, confirming our intuition. "
   ]
  },
  {
   "cell_type": "code",
   "execution_count": 7,
   "id": "986f3b87-d499-457c-8e9c-1a744200a972",
   "metadata": {},
   "outputs": [
    {
     "data": {
      "image/png": "[encoded data removed]",
      "text/plain": [
       "<Figure size 1000x500 with 1 Axes>"
      ]
     },
     "metadata": {},
     "output_type": "display_data"
    }
   ],
   "source": [
    "plt.figure(figsize=(10, 5))\n",
    "plt.scatter(data['words'], data['chars'])\n",
    "plt.title('Relationship Between Character and Word Counts for Student Essays')\n",
    "plt.xlabel(\"Word Count\")\n",
    "plt.ylabel(\"Character Count\")\n",
    "plt.show()"
   ]
  },
  {
   "cell_type": "markdown",
   "id": "e48a4ce8-b98b-45b9-9b00-0992c646ce99",
   "metadata": {},
   "source": [
    "The scatterplot demonstrates a strong positive linear association between the number of words and the number of characters in an essay. Given this redundancy, we will remove the \"chars\" column from our feature DataFrame, as both variables convey essentially the same information. This is particularly important for methods like Naive Bayes, which assume feature independence - an assumption that would be violated if both were included. We will see more on this later. We do not believe that there are any other highly correlated features, so we will only be removing \"chars\". "
   ]
  },
  {
   "cell_type": "markdown",
   "id": "3e65c2fc-64d3-4d97-b348-2145c17933b4",
   "metadata": {},
   "source": [
    "## Splitting the data for training and testing"
   ]
  },
  {
   "cell_type": "markdown",
   "id": "62b8cda4-15d7-467e-85cf-c7913f4d04cb",
   "metadata": {},
   "source": [
    "Again, using scikit-learn, we can efficiently split each dataframe into two parts: one for training the model and the other for testing it. We have chosen a test size of 0.225, as through some trial and error, we’ve determined that this proportion provides the best balance for splitting this particular dataset. This allows us to ensure that the model is trained on a sufficient amount of data while still having enough data for an unbiased evaluation."
   ]
  },
  {
   "cell_type": "code",
   "execution_count": 8,
   "id": "ad9dc252-ef65-4c8d-afea-f33fc0d1f3fe",
   "metadata": {},
   "outputs": [],
   "source": [
    "data_features_train, data_features_test, data_label_train, data_label_test = train_test_split(data_features, data_label, test_size=0.225)"
   ]
  },
  {
   "cell_type": "markdown",
   "id": "b4d24a2d-db21-446a-9e54-8823831f1fd6",
   "metadata": {},
   "source": [
    "It is essential, given that our data is finite, to choose an appropriate split size. We need to strike a balance between having enough data to effectively train the model and ensuring there is sufficient data remaining to test and evaluate the model’s accuracy. This balance helps avoid overfitting and ensures that the model is properly validated on unseen data."
   ]
  },
  {
   "cell_type": "markdown",
   "id": "8bca832b-7130-467e-9446-cc319e6ae412",
   "metadata": {},
   "source": [
    "## Binary and Multi-class Classification"
   ]
  },
  {
   "cell_type": "markdown",
   "id": "45cd7353-5ece-4f9f-98ab-c6af12096057",
   "metadata": {},
   "source": [
    "There are two primary types of classification tasks in machine learning: binary classification and multi-class classification. <br>\n",
    "<br>\n",
    "In binary classification, the dataset is divided into exactly two distinct classes. The goal of the binary classifier is to categorise the data into one of these two classes. This is commonly used in scenarios where there are only two possible outcomes. Examples of binary classification tasks include predicting whether a patient has a certain disease, categorised as \"positive\" or \"negative\". Other typical examples could include \"Yes\" vs \"No\" or \"True\" vs \"False\". <br>\n",
    "<br>\n",
    "On the other hand, multi-class classification involves categorising the dataset into more than two classes, meaning that there are multiple possible labels. In multi-class classification, the goal is to assign each instance to one of several classes. This type of classification is used in more complex scenarios where the data falls into one of multiple categories. For example, classifying images of animals into different species or breeds, such as distinguishing between \"dog\", \"cat\", or \"bird\". Another example could be classifying types of fruit, where the categories might include \"apple\", \"banana\", \"orange\", and so on. <br>\n",
    "<br>\n",
    "In summary, binary classification deals with two possible outcomes, while multi-class classification deals with multiple outcomes, allowing for more complex categorisation tasks. In this project, since the essays are scored on a scale from 1 to 6, we will be performing multi-class classification. This means that the model will be trained to predict one of six possible scores for each essay, where the score represents the quality of the essay as classified into one of the six distinct categories. The goal is to build a model capable of accurately predicting which score an essay should receive based on its features."
   ]
  },
  {
   "cell_type": "markdown",
   "id": "67efaed0-8e94-436f-b4a0-4130828ea0b9",
   "metadata": {},
   "source": [
    "## Preparation for Naive Bayes (NB) Classification"
   ]
  },
  {
   "cell_type": "markdown",
   "id": "8c003f32-75fa-4952-9713-48d34465746c",
   "metadata": {},
   "source": [
    "Before applying multi-class Naive Bayes (NB) classification, we need to normalise our data. The StandardScaler() function is used to scale the feature columns so that each column has a mean of 0, a variance of 1, and is normally distributed. This is important because Naive Bayes classifiers assume that each feature is independent and follows a normal distribution. By using StandardScaler(), we ensure that the data is standardised, which helps improve the performance of the classifier. <br>\n",
    "There are three common methods for normalising numerical data:\n",
    "\n",
    "    1. Linear scaling: Rescales the data to a fixed range, typically between 0 and 1.\n",
    "\n",
    "    2. Z-score scaling: Subtracts the mean from each feature and divides by the standard deviation, so the data has a mean of 0 and variance of 1.\n",
    "\n",
    "    3. Log scaling: Applies the logarithm to values, which helps to reduce skewed distributions and manage extreme values.\n",
    "\n",
    "For this project, we will use Z-score scaling with StandardScaler(), which standardises the features and ensures they have a mean of 0 and a standard deviation of 1. This method aligns well with the assumptions of the Naive Bayes classifier. We may also use log scaling if the data is highly skewed, to prevent issues like underflow or numerical instability during calculations."
   ]
  },
  {
   "cell_type": "code",
   "execution_count": 9,
   "id": "45546749-2aa0-436d-ae65-da857fc5180f",
   "metadata": {},
   "outputs": [],
   "source": [
    "sc = StandardScaler()\n",
    "data_features_train_scaled = sc.fit_transform(data_features_train)\n",
    "data_features_test_scaled = sc.transform(data_features_test)"
   ]
  },
  {
   "cell_type": "markdown",
   "id": "cfe1b4b9-beae-482b-ac1a-953c14dd38fc",
   "metadata": {},
   "source": [
    "However, we don't scale the test data separately. Instead, we use the scaling parameters (mean and standard deviation) derived from the training data to transform the test data. This is because the model should be tested on data that it hasn’t seen during training, and scaling the test data independently could lead to discrepancies in how the model interprets new data. By applying the same scaling parameters (mean and standard deviation) to the test data as used for the training data, we maintain consistency. <br>\n",
    "Additionally, for discrete data, like categorical variables or class labels, scaling is not typically necessary. Scaling only applies to continuous numerical features, where the magnitude of the values can affect the model’s behaviour. Discrete data, such as class labels or binary features, is not sensitive to scaling because their values are distinct and don't rely on their scale to convey information. Hence, we don't scale test data features separately to avoid introducing inconsistencies."
   ]
  },
  {
   "cell_type": "markdown",
   "id": "0238238f-2985-43fe-9ec4-6b77c3cb021c",
   "metadata": {},
   "source": [
    "## What is the Naive Bayes classifier?"
   ]
  },
  {
   "cell_type": "markdown",
   "id": "b37d4e1c-9262-4f52-b458-781aeb2ede26",
   "metadata": {},
   "source": [
    "The Naive Bayes (NB) classifier is a supervised machine learning algorithm used for classification tasks. It is based on Bayes' Theorem, which calculates probabilities to predict the likelihood of different classes given the features of the data. The core idea behind the Naive Bayes classifier is to compute the probability of each class, conditioned on the features, and choose the class with the highest probability. <br>\n",
    "<br>\n",
    "Naive Bayes is a simple yet effective probabilistic classifier that works well with a relatively small number of parameters, making it computationally efficient and faster compared to other classification algorithms. It is called \"naive\" because it makes a strong assumption that the features used for prediction are independent of each other, meaning the presence of one feature does not affect the presence of another. This assumption simplifies the model, even though in reality, some features might be correlated. Despite this, Naive Bayes often performs surprisingly well, particularly in high-dimensional datasets and applications like spam filtering and text classification. <br>\n",
    "<br>\n",
    "The Naive Bayes classifier is valued for its simplicity, speed, and effectiveness in situations where feature independence can be reasonably assumed or where the model is robust enough to handle correlations between features."
   ]
  },
  {
   "cell_type": "markdown",
   "id": "43ddcba1-ac10-456f-833d-bc30d356406b",
   "metadata": {},
   "source": [
    "The NB makes a number of assumptions on each feature: <br>\n",
    "\n",
    "    1. Feature independence: This means that when we are trying to classify something, we assume that each feature (or piece of information) in the data does not affect any other feature.\n",
    "    \n",
    "    2. Continuous features are normally distributed: If a feature is continuous, then it is assumed to be normally distributed within each class.\n",
    "    \n",
    "    3. Discrete features have multinomial distributions: If a feature is discrete, then it is assumed to have a multinomial distribution within each class.\n",
    "    \n",
    "    4. Features are equally important: All features are assumed to contribute equally to the prediction of the class label.\n",
    "    \n",
    "    5. No missing data: The data should not contain any missing values."
   ]
  },
  {
   "cell_type": "markdown",
   "id": "9a43a593-c590-4686-987f-9da03a515a00",
   "metadata": {},
   "source": [
    "## Different Naive Bayes Models"
   ]
  },
  {
   "cell_type": "markdown",
   "id": "5fcd2531-3d9c-4ec8-9d5f-3c1a570c6f09",
   "metadata": {},
   "source": [
    "There are four main types of Naive Bayes (NB) models, each suited for different types of data:\n",
    "\n",
    "    1. Gaussian Naive Bayes: Gaussian Naive Bayes is used when the features are continuous and are assumed to follow a normal (Gaussian) distribution. This model is commonly applied in scenarios where the data is continuous and the distribution of the feature values within each class is expected to resemble a bell curve.\n",
    "\n",
    "    2. Multinomial Naive Bayes: Multinomial Naive Bayes is typically used when features represent the frequency of events, such as the number of times a specific word appears in a document. This model is especially effective in text classification tasks, such as spam detection or sentiment analysis, where term frequencies or word counts play a critical role in distinguishing between classes.\n",
    "\n",
    "    3. Bernoulli Naive Bayes: Bernoulli Naive Bayes is applied when the features are binary—indicating the presence or absence of a certain characteristic. In text classification, this is useful when you care more about whether a word appears in a document, rather than its frequency. For example, in a document classification task, it would consider whether a specific word is present (1) or absent (0) in the document.\n",
    "\n",
    "    4. Categorical Naive Bayes: Categorical Naive Bayes is used when the features are categorical in nature. It assumes that each feature takes on a limited, discrete set of values (such as colors, categories, or groups). This model is particularly useful when working with categorical data where the relationship between features and classes can be better understood in terms of the probabilities of category memberships.\n",
    "\n",
    "Each of these variants of Naive Bayes is tailored to handle different types of data, ensuring that the model is well-suited for the specific characteristics of the features at hand."
   ]
  },
  {
   "cell_type": "markdown",
   "id": "5cb4a0ba-5181-4d8f-9452-a55f33a7b599",
   "metadata": {},
   "source": [
    "For the purposes of this project, we will be using the Gaussian Naive Bayes (Gaussian NB) model, as it is the most appropriate method given the nature of our dataset. Since our features are continuous, and have been standardised (they follow a normal distribution), the Gaussian Naive Bayes model is well-suited for making predictions based on the probabilities of these continuous features. This model will allow us to efficiently classify the data while leveraging the assumption of feature independence."
   ]
  },
  {
   "cell_type": "markdown",
   "id": "5a9aad7c-e1bd-48c4-ba9b-45f0115c33e9",
   "metadata": {},
   "source": [
    "## Building the NB model using training data"
   ]
  },
  {
   "cell_type": "markdown",
   "id": "08068f6c-c7ed-480f-ae1e-98cf6d1bb6d5",
   "metadata": {},
   "source": [
    "The code below utilises Gaussian NB to create a predictive model. This model uses the features of the dataset to predict the score of a student's essay. "
   ]
  },
  {
   "cell_type": "code",
   "execution_count": 10,
   "id": "356684d8-e212-4362-ae74-181aa5c1fec6",
   "metadata": {},
   "outputs": [
    {
     "data": {
      "text/plain": [
       "0.58"
      ]
     },
     "execution_count": 10,
     "metadata": {},
     "output_type": "execute_result"
    }
   ],
   "source": [
    "nb_model = GaussianNB()\n",
    "nb_model.fit(data_features_train, data_label_train)\n",
    "nb_model.score(data_features_test, data_label_test)"
   ]
  },
  {
   "cell_type": "markdown",
   "id": "d52e20c0-5472-448a-a34b-93117e0e33f1",
   "metadata": {},
   "source": [
    "The accuracy score obtained from the model will vary each time we run the project because it is based on a random split of the original dataframe into training and testing sets. The train-test split involves randomly selecting a subset of the data for training the model and another subset for testing, so each run may involve different data samples for both training and testing. <br>\n",
    "In general, the closer the accuracy score is to 1, the better the model’s predictions are, indicating that the model is making more accurate predictions from input features to the output scores. A higher accuracy suggests that the model is correctly classifying the majority of test samples, whereas a lower accuracy indicates that the model is not performing well and may need improvements, such as adjusting features or using a different model."
   ]
  },
  {
   "cell_type": "code",
   "execution_count": 11,
   "id": "aba410a9-02c7-4897-a3e4-339a4fdfad86",
   "metadata": {},
   "outputs": [],
   "source": [
    "data_predict = nb_model.predict(data_features_test)"
   ]
  },
  {
   "cell_type": "markdown",
   "id": "24168945-51e8-4c58-94ef-dbf7e9b16b9b",
   "metadata": {},
   "source": [
    "The code above assigns the NB model's prediction to a variable, so that we can later use this variable to create a confusion matrix. The confusion matrix is a useful tool for evaluating the performance of a classification model by showing how well the model is predicting the essay scores."
   ]
  },
  {
   "cell_type": "markdown",
   "id": "90ed3327-4783-4a75-a579-11eeb0d1ace7",
   "metadata": {},
   "source": [
    "## Confusion Matrix for NB Classifier"
   ]
  },
  {
   "cell_type": "markdown",
   "id": "465c3298-9fba-4abd-930b-5a4fed3f7afd",
   "metadata": {},
   "source": [
    "The code below utilises scikit-learn's confusion matrix to visualise how well our model is performing by comparing the actual and predicted scores. The confusion matrix helps in evaluating the accuracy and identifying where the model is making incorrect predictions. By visualising it with a heatmap, we can better understand how the model performs for each class."
   ]
  },
  {
   "cell_type": "code",
   "execution_count": 12,
   "id": "b7cb09a8-0d61-4107-8d9b-ac0d7469c039",
   "metadata": {},
   "outputs": [
    {
     "data": {
      "image/png": "[encoded data removed]",
      "text/plain": [
       "<Figure size 1000x500 with 2 Axes>"
      ]
     },
     "metadata": {},
     "output_type": "display_data"
    }
   ],
   "source": [
    "cm1 = confusion_matrix(data_label_test, data_predict)\n",
    "plt.figure(figsize=(10, 5))\n",
    "plt.imshow(cm1, cmap='Greens')\n",
    "plt.colorbar()\n",
    "plt.title('Confusion Matrix for NB Classifier')\n",
    "plt.xlabel(\"Predicted Score\")\n",
    "plt.ylabel(\"Actual Score\")\n",
    "plt.xticks(ticks=range(6), labels=['1', '2', '3', '4', '5', '6'])\n",
    "plt.yticks(ticks=range(6), labels=['1', '2', '3', '4', '5', '6'])\n",
    "plt.show()"
   ]
  },
  {
   "cell_type": "markdown",
   "id": "1897386d-f7d3-424b-beeb-6f422e8fcd5c",
   "metadata": {},
   "source": [
    "The Gaussian NB model appears to predict scores around 3 and 4 most frequently, with significant misclassification around these values. The distribution suggests that the classifier struggles with distinguishing between adjacent scores, leading to moderate accuracy but limited precision in differentiating higher and lower scores."
   ]
  },
  {
   "cell_type": "markdown",
   "id": "35c4c0ac-d75b-4a18-8748-d55c504b8c73",
   "metadata": {},
   "source": [
    "## Quadratic Weighted Kappa (QWK)"
   ]
  },
  {
   "cell_type": "markdown",
   "id": "6bbf69a2-80eb-47c5-82b5-e8ca6c7f7db6",
   "metadata": {},
   "source": [
    "The Quadratic Weighted Kappa is a statistical measure used to assess the degree of agreement between two raters who assign scores to items on an ordinal scale. Its values range from -1 to 1, where -1 signifies complete disagreement, 0 indicates no better agreement than what would be expected by chance, and 1 represents perfect agreement. <br>\n",
    "QWK is an extension of Cohen’s Kappa, which measures inter-rater reliability for categorical variables. However, unlike Cohen’s Kappa, QWK accounts for the ordinal nature of the categories. This means that it not only evaluates whether the raters agree but also considers the severity of disagreements. Discrepancies between ratings are weighted based on their distance, with larger differences being penalised more heavily than smaller ones. For instance, misclassifying an essay score of 6 as a 1 would be considered a more significant error than misclassifying it as a 5, and the QWK metric reflects this by assigning greater penalties to larger misclassifications. <br>\n",
    "Because of its sensitivity to the ordinal structure of the data, QWK is particularly useful in fields such as automated essay scoring. By emphasizing the extent of disagreement rather than treating all disagreements equally, QWK provides a more nuanced and fair assessment of classification performance."
   ]
  },
  {
   "cell_type": "markdown",
   "id": "de04eff9-149b-4c9a-b419-b09570e5c129",
   "metadata": {},
   "source": [
    "## QWK score for our data"
   ]
  },
  {
   "cell_type": "markdown",
   "id": "6d79972f-5fdc-450f-bc7a-0ee80220aef5",
   "metadata": {},
   "source": [
    "Below is the code that calculates the QWK score for our dataset:"
   ]
  },
  {
   "cell_type": "code",
   "execution_count": 13,
   "id": "1d2f5c85-b460-4ae5-a04b-4bdb25346702",
   "metadata": {},
   "outputs": [
    {
     "name": "stdout",
     "output_type": "stream",
     "text": [
      "0.662876784769963\n"
     ]
    }
   ],
   "source": [
    "qwk_score = cohen_kappa_score(data_label_test, data_predict, weights=\"quadratic\")\n",
    "print(qwk_score)"
   ]
  },
  {
   "cell_type": "markdown",
   "id": "2d523661-454c-4b19-9ae3-eca8173e3170",
   "metadata": {},
   "source": [
    "It is important to note that the QWK score varies each time we train a new model. This variation occurs because the dataset is randomly split into training and test sets in each iteration. As a result, different subsets of data are used for training, leading to slight variations in model performance. To obtain a more reliable estimate of the model’s effectiveness, we could consider averaging the QWK score over multiple runs or using techniques like cross-validation to reduce variability."
   ]
  },
  {
   "cell_type": "markdown",
   "id": "498abeb6-ac1f-4819-af99-e1f79e4a87f8",
   "metadata": {},
   "source": [
    "## Random Forest (RF) Classifier"
   ]
  },
  {
   "cell_type": "markdown",
   "id": "ec8157eb-1584-4b72-845d-5d036a461b66",
   "metadata": {},
   "source": [
    "## What is the random forest classifier? "
   ]
  },
  {
   "cell_type": "markdown",
   "id": "79421b30-9286-4b19-bfc1-f701021fb446",
   "metadata": {},
   "source": [
    "Random forests is a machine learning method used for classification, regression, and other tasks. This technique builds a collection of decision trees during training, each trained on a random subset of the data. By combining the outputs of multiple trees, the model improves accuracy and reduces the risk of overfitting compared to individual decision trees. <br>\n",
    "In classification tasks, each decision tree in the forest votes for a class, and the final prediction is determined by majority vote. <br>\n",
    "For regression tasks, the output is typically the average of the predictions from all trees. <br>\n",
    "One assumption for the RF classifier is that we are under supervised learning, meaning it require labeled data to train the model. The key advantage of this approach is that it leverages the power of multiple weak learners to produce a more robust and generalisable model. By randomly selecting subsets of data and features for each tree, random forests introduce diversity, reducing variance and improving overall model stability. <br>\n",
    "This classifier method is widely used in various applications, including automated essay scoring, due to its ability to handle high-dimensional data and maintain strong predictive performance."
   ]
  },
  {
   "cell_type": "markdown",
   "id": "1f40e0f6-345d-479b-906f-c901c9e535f7",
   "metadata": {},
   "source": [
    "## Building the RF model using training data"
   ]
  },
  {
   "cell_type": "markdown",
   "id": "a637c3d9-37f9-4a33-8e67-b3470fd221bb",
   "metadata": {},
   "source": [
    "Similar to before, the code below utilises RF to create a predictive model. This model uses the features of the dataset to predict the score of a student's essay. "
   ]
  },
  {
   "cell_type": "code",
   "execution_count": 14,
   "id": "cd64c2af-e944-4e6d-83ad-cffe0566dccf",
   "metadata": {},
   "outputs": [
    {
     "data": {
      "text/plain": [
       "0.6633333333333333"
      ]
     },
     "execution_count": 14,
     "metadata": {},
     "output_type": "execute_result"
    }
   ],
   "source": [
    "rf_model = RandomForestClassifier(n_estimators=20, criterion=\"entropy\", random_state=0)\n",
    "rf_model.fit(data_features_train, data_label_train)\n",
    "rf_predictions = rf_model.predict(data_features_test)\n",
    "rf_model.score(data_features_test, data_label_test)"
   ]
  },
  {
   "cell_type": "markdown",
   "id": "ffb227f0-66bc-4c16-baba-f725eda8f603",
   "metadata": {},
   "source": [
    "Once again, the accuracy score obtained from the model will vary each time we run the project because of the random split of the original dataframe into training and testing sets.<br>\n",
    "Much like the Gaussian NB score, the closer it is to 1, the better the model’s predictions are, indicating that the model is making more accurate predictions from input features to the output scores."
   ]
  },
  {
   "cell_type": "markdown",
   "id": "3cc456b0-acfd-430d-b306-71e223096571",
   "metadata": {},
   "source": [
    "## Confusion Matrix for RF Classifier"
   ]
  },
  {
   "cell_type": "markdown",
   "id": "c96e8ec6-92cf-498f-82c3-569f11176231",
   "metadata": {},
   "source": [
    "Similar to the previous NB classifier confusion matrix, the code below utilises scikit-learn's confusion matrix to visualise how well our model is performing by comparing the actual and predicted scores."
   ]
  },
  {
   "cell_type": "code",
   "execution_count": 15,
   "id": "1f3fb6bb-17fc-43fb-b8cb-08adbf470652",
   "metadata": {},
   "outputs": [
    {
     "data": {
      "image/png": "[encoded data removed]",
      "text/plain": [
       "<Figure size 1000x500 with 2 Axes>"
      ]
     },
     "metadata": {},
     "output_type": "display_data"
    }
   ],
   "source": [
    "cm2 = confusion_matrix(data_label_test, rf_predictions)\n",
    "plt.figure(figsize=(10, 5))\n",
    "plt.imshow(cm1, cmap='Reds') \n",
    "plt.colorbar()\n",
    "plt.title('Confusion Matrix for RF Classifier')\n",
    "plt.xlabel(\"Predicted Score\")\n",
    "plt.ylabel(\"Actual Score\")\n",
    "plt.xticks(ticks=range(6), labels=['1', '2', '3', '4', '5', '6'])\n",
    "plt.yticks(ticks=range(6), labels=['1', '2', '3', '4', '5', '6'])\n",
    "plt.show()"
   ]
  },
  {
   "cell_type": "markdown",
   "id": "32c071a7-d384-43a4-b6e6-e16e4c136b0b",
   "metadata": {},
   "source": [
    "Upon analysis, the RF model appears to produce predictions similar to those of the Gaussian NB model. We still observe a tendency for misclassification, particularly with adjacent scores, indicating that the model struggles to precisely distinguish between closely related score levels. This suggests that while the RF approach may offer some improvements in overall prediction stability, additional feature selection will be necessary to enhance accuracy."
   ]
  },
  {
   "cell_type": "markdown",
   "id": "0881a20b-acb3-4284-9fad-4ac7a86c2062",
   "metadata": {},
   "source": [
    "## Which algorithm is better for this project?"
   ]
  },
  {
   "cell_type": "markdown",
   "id": "88c074f3-fc9d-4f26-8286-1e6890822a0a",
   "metadata": {},
   "source": [
    "By direct comparison of accuracy scores, we can conclude that the RF model provides higher accuracy in predicting essay scores based on the given features. The RF approach, which combines multiple decision trees, allows for more robust and reliable predictions compared to the Gaussian NB model. However, while random forests improve overall accuracy, some challenges remain, particularly in differentiating between adjacent scores."
   ]
  },
  {
   "cell_type": "markdown",
   "id": "92677f3f-fb1f-419a-8b26-59ca4a4c5d3e",
   "metadata": {},
   "source": [
    "Furthermore, a comparison of the confusion matrices reveals that both models exhibit similar prediction patterns. However, the RF model demonstrates a slight improvement, with fewer extreme misclassifications. This means that it makes fewer predictions that are significantly far from the true score. While this indicates that the RF model captures the underlying patterns in the data more effectively than the Gaussian NB model, there is still room for improvement in refining score differentiation, particularly for adjacent categories. Further optimisation, and feature selection will enhance the model’s performance even further."
   ]
  },
  {
   "cell_type": "markdown",
   "id": "12191486-2e0e-4291-b14a-f6347de0ce39",
   "metadata": {},
   "source": [
    "## Kaggle Submission"
   ]
  },
  {
   "cell_type": "markdown",
   "id": "01a2177d-dd89-447b-bf50-af17b598296b",
   "metadata": {},
   "source": [
    "We read the csv file as per the coursework specification:"
   ]
  },
  {
   "cell_type": "code",
   "execution_count": 16,
   "id": "162c7bfc-a620-4c2e-827f-e10a3b35c14e",
   "metadata": {},
   "outputs": [
    {
     "data": {
      "text/html": [
       "<div>\n",
       "<style scoped>\n",
       "    .dataframe tbody tr th:only-of-type {\n",
       "        vertical-align: middle;\n",
       "    }\n",
       "\n",
       "    .dataframe tbody tr th {\n",
       "        vertical-align: top;\n",
       "    }\n",
       "\n",
       "    .dataframe thead th {\n",
       "        text-align: right;\n",
       "    }\n",
       "</style>\n",
       "<table border=\"1\" class=\"dataframe\">\n",
       "  <thead>\n",
       "    <tr style=\"text-align: right;\">\n",
       "      <th></th>\n",
       "      <th>essayid</th>\n",
       "      <th>chars</th>\n",
       "      <th>words</th>\n",
       "      <th>commas</th>\n",
       "      <th>apostrophes</th>\n",
       "      <th>punctuations</th>\n",
       "      <th>avg_word_length</th>\n",
       "      <th>sentences</th>\n",
       "      <th>questions</th>\n",
       "      <th>avg_word_sentence</th>\n",
       "      <th>POS</th>\n",
       "      <th>POS/total_words</th>\n",
       "      <th>prompt_words</th>\n",
       "      <th>prompt_words/total_words</th>\n",
       "      <th>synonym_words</th>\n",
       "      <th>synonym_words/total_words</th>\n",
       "      <th>unstemmed</th>\n",
       "      <th>stemmed</th>\n",
       "    </tr>\n",
       "  </thead>\n",
       "  <tbody>\n",
       "    <tr>\n",
       "      <th>0</th>\n",
       "      <td>1623</td>\n",
       "      <td>4332</td>\n",
       "      <td>900</td>\n",
       "      <td>28</td>\n",
       "      <td>13</td>\n",
       "      <td>0</td>\n",
       "      <td>4.813333</td>\n",
       "      <td>39</td>\n",
       "      <td>1</td>\n",
       "      <td>23.076923</td>\n",
       "      <td>893.988852</td>\n",
       "      <td>0.993321</td>\n",
       "      <td>392</td>\n",
       "      <td>0.435556</td>\n",
       "      <td>196</td>\n",
       "      <td>0.217778</td>\n",
       "      <td>750</td>\n",
       "      <td>750</td>\n",
       "    </tr>\n",
       "    <tr>\n",
       "      <th>1</th>\n",
       "      <td>1143</td>\n",
       "      <td>1465</td>\n",
       "      <td>280</td>\n",
       "      <td>11</td>\n",
       "      <td>3</td>\n",
       "      <td>1</td>\n",
       "      <td>5.232143</td>\n",
       "      <td>14</td>\n",
       "      <td>3</td>\n",
       "      <td>20.000000</td>\n",
       "      <td>278.321343</td>\n",
       "      <td>0.994005</td>\n",
       "      <td>131</td>\n",
       "      <td>0.467857</td>\n",
       "      <td>51</td>\n",
       "      <td>0.182143</td>\n",
       "      <td>339</td>\n",
       "      <td>316</td>\n",
       "    </tr>\n",
       "    <tr>\n",
       "      <th>2</th>\n",
       "      <td>660</td>\n",
       "      <td>1696</td>\n",
       "      <td>325</td>\n",
       "      <td>17</td>\n",
       "      <td>2</td>\n",
       "      <td>0</td>\n",
       "      <td>5.218462</td>\n",
       "      <td>19</td>\n",
       "      <td>1</td>\n",
       "      <td>17.105263</td>\n",
       "      <td>321.316770</td>\n",
       "      <td>0.988667</td>\n",
       "      <td>178</td>\n",
       "      <td>0.547692</td>\n",
       "      <td>92</td>\n",
       "      <td>0.283077</td>\n",
       "      <td>352</td>\n",
       "      <td>337</td>\n",
       "    </tr>\n",
       "    <tr>\n",
       "      <th>3</th>\n",
       "      <td>1596</td>\n",
       "      <td>2640</td>\n",
       "      <td>555</td>\n",
       "      <td>20</td>\n",
       "      <td>17</td>\n",
       "      <td>0</td>\n",
       "      <td>4.756757</td>\n",
       "      <td>28</td>\n",
       "      <td>0</td>\n",
       "      <td>19.821429</td>\n",
       "      <td>551.989150</td>\n",
       "      <td>0.994575</td>\n",
       "      <td>228</td>\n",
       "      <td>0.410811</td>\n",
       "      <td>107</td>\n",
       "      <td>0.192793</td>\n",
       "      <td>632</td>\n",
       "      <td>605</td>\n",
       "    </tr>\n",
       "    <tr>\n",
       "      <th>4</th>\n",
       "      <td>846</td>\n",
       "      <td>2844</td>\n",
       "      <td>596</td>\n",
       "      <td>33</td>\n",
       "      <td>4</td>\n",
       "      <td>1</td>\n",
       "      <td>4.771812</td>\n",
       "      <td>24</td>\n",
       "      <td>9</td>\n",
       "      <td>24.833333</td>\n",
       "      <td>593.658810</td>\n",
       "      <td>0.996072</td>\n",
       "      <td>279</td>\n",
       "      <td>0.468121</td>\n",
       "      <td>138</td>\n",
       "      <td>0.231544</td>\n",
       "      <td>626</td>\n",
       "      <td>607</td>\n",
       "    </tr>\n",
       "  </tbody>\n",
       "</table>\n",
       "</div>"
      ],
      "text/plain": [
       "   essayid  chars  words  commas  apostrophes  punctuations  avg_word_length  \\\n",
       "0     1623   4332    900      28           13             0         4.813333   \n",
       "1     1143   1465    280      11            3             1         5.232143   \n",
       "2      660   1696    325      17            2             0         5.218462   \n",
       "3     1596   2640    555      20           17             0         4.756757   \n",
       "4      846   2844    596      33            4             1         4.771812   \n",
       "\n",
       "   sentences  questions  avg_word_sentence         POS  POS/total_words  \\\n",
       "0         39          1          23.076923  893.988852         0.993321   \n",
       "1         14          3          20.000000  278.321343         0.994005   \n",
       "2         19          1          17.105263  321.316770         0.988667   \n",
       "3         28          0          19.821429  551.989150         0.994575   \n",
       "4         24          9          24.833333  593.658810         0.996072   \n",
       "\n",
       "   prompt_words  prompt_words/total_words  synonym_words  \\\n",
       "0           392                  0.435556            196   \n",
       "1           131                  0.467857             51   \n",
       "2           178                  0.547692             92   \n",
       "3           228                  0.410811            107   \n",
       "4           279                  0.468121            138   \n",
       "\n",
       "   synonym_words/total_words  unstemmed  stemmed  \n",
       "0                   0.217778        750      750  \n",
       "1                   0.182143        339      316  \n",
       "2                   0.283077        352      337  \n",
       "3                   0.192793        632      605  \n",
       "4                   0.231544        626      607  "
      ]
     },
     "execution_count": 16,
     "metadata": {},
     "output_type": "execute_result"
    }
   ],
   "source": [
    "unseen_data = pd.read_csv(\"F78DS-Essay-Features-Submission.csv\")\n",
    "unseen_data.head()"
   ]
  },
  {
   "cell_type": "markdown",
   "id": "1c2586d6-699f-4060-86ec-93aeeecdc802",
   "metadata": {},
   "source": [
    "This dataset closely resembles the one used to build our predictive model earlier, but this time, it contains only the features, without the corresponding essay scores. We can leverage this feature data, along with the model we previously developed, to predict the essay scores based on the given features. Since we determined that the RF model provided the best results in our earlier analysis, we will proceed by using this model for our predictive analysis."
   ]
  },
  {
   "cell_type": "markdown",
   "id": "e0c56e78-a6e0-4180-bda1-4cac06ee8410",
   "metadata": {},
   "source": [
    "## Using the RF model we built earlier to predict scores"
   ]
  },
  {
   "cell_type": "markdown",
   "id": "28c10002-5f5c-475e-b7ed-208a2e77835a",
   "metadata": {},
   "source": [
    "First of all, we must remove the \"chars\" column from our new data since we removed it from the model (highly correlated with \"words\"):"
   ]
  },
  {
   "cell_type": "code",
   "execution_count": 17,
   "id": "bd7e7140-d267-4ab9-b467-7caf3110a00c",
   "metadata": {},
   "outputs": [],
   "source": [
    "unseen_data_features = unseen_data.drop(columns=[\"chars\", \"punctuations\"])"
   ]
  },
  {
   "cell_type": "markdown",
   "id": "4340b9a2-97b4-4c81-8f4c-ec7530cf87e1",
   "metadata": {},
   "source": [
    "One last time, the code below utilises RF to create a predictive model. This model uses the features (all columns minus \"chars\", and \"punctuations\") of the new dataset to predict the score of a student's essay. "
   ]
  },
  {
   "cell_type": "code",
   "execution_count": 18,
   "id": "83e59a31-7a60-49c1-8ddf-c11bbae9a292",
   "metadata": {},
   "outputs": [],
   "source": [
    "rf_predictions2 = rf_model.predict(unseen_data_features)"
   ]
  },
  {
   "cell_type": "markdown",
   "id": "7d70ce73-b4c8-4611-a6d0-d36efb80e1d2",
   "metadata": {},
   "source": [
    "## Output of our prediction"
   ]
  },
  {
   "cell_type": "markdown",
   "id": "9817c9a4-c441-4611-8198-74d9a2a36b7b",
   "metadata": {},
   "source": [
    "The code below usess Pandas to create a dataframe that only contains the feature (essayid) we want, paired with the predicted score."
   ]
  },
  {
   "cell_type": "code",
   "execution_count": 19,
   "id": "61086d20-5e7c-4f59-ae93-f0cbef268ab2",
   "metadata": {},
   "outputs": [
    {
     "data": {
      "text/html": [
       "<div>\n",
       "<style scoped>\n",
       "    .dataframe tbody tr th:only-of-type {\n",
       "        vertical-align: middle;\n",
       "    }\n",
       "\n",
       "    .dataframe tbody tr th {\n",
       "        vertical-align: top;\n",
       "    }\n",
       "\n",
       "    .dataframe thead th {\n",
       "        text-align: right;\n",
       "    }\n",
       "</style>\n",
       "<table border=\"1\" class=\"dataframe\">\n",
       "  <thead>\n",
       "    <tr style=\"text-align: right;\">\n",
       "      <th></th>\n",
       "      <th>essayid</th>\n",
       "      <th>score</th>\n",
       "    </tr>\n",
       "  </thead>\n",
       "  <tbody>\n",
       "    <tr>\n",
       "      <th>0</th>\n",
       "      <td>1623</td>\n",
       "      <td>4</td>\n",
       "    </tr>\n",
       "    <tr>\n",
       "      <th>1</th>\n",
       "      <td>1143</td>\n",
       "      <td>3</td>\n",
       "    </tr>\n",
       "    <tr>\n",
       "      <th>2</th>\n",
       "      <td>660</td>\n",
       "      <td>3</td>\n",
       "    </tr>\n",
       "    <tr>\n",
       "      <th>3</th>\n",
       "      <td>1596</td>\n",
       "      <td>5</td>\n",
       "    </tr>\n",
       "    <tr>\n",
       "      <th>4</th>\n",
       "      <td>846</td>\n",
       "      <td>4</td>\n",
       "    </tr>\n",
       "  </tbody>\n",
       "</table>\n",
       "</div>"
      ],
      "text/plain": [
       "   essayid  score\n",
       "0     1623      4\n",
       "1     1143      3\n",
       "2      660      3\n",
       "3     1596      5\n",
       "4      846      4"
      ]
     },
     "execution_count": 19,
     "metadata": {},
     "output_type": "execute_result"
    }
   ],
   "source": [
    "output_df = pd.DataFrame({'essayid': unseen_data_features[\"essayid\"], 'score': rf_predictions2})\n",
    "output_df.head()  #to check before we save as csv"
   ]
  },
  {
   "cell_type": "markdown",
   "id": "6db44685-1a54-4c7b-b61f-f21da667b12a",
   "metadata": {},
   "source": [
    "Then finally we can create a csv file, named correctly, so that we may submit this to Kaggle for competition."
   ]
  },
  {
   "cell_type": "code",
   "execution_count": 20,
   "id": "0d90caf0-335c-40fd-8aab-f875d1b1fe8a",
   "metadata": {},
   "outputs": [],
   "source": [
    "output_df.to_csv(\"H00190287-Connor-McCaffery-11.csv\", index=False)"
   ]
  },
  {
   "cell_type": "markdown",
   "id": "5ff14769-b705-45ba-ab19-5ddc3cf9c799",
   "metadata": {},
   "source": [
    "## Conclusion"
   ]
  },
  {
   "cell_type": "markdown",
   "id": "fb771ddf-2286-4c47-8797-e546e476b172",
   "metadata": {},
   "source": [
    "In this project, we explored machine learning techniques for automated essay scoring, focusing on model building, feature selection, and validation. By leveraging a dataset of student essays with various features, we trained and evaluated classification models to predict essay scores. <br>\n",
    "<br>\n",
    "Among the models tested, the Random Forest classifier demonstrated superior performance compared to the Gaussian Naive Bayes model. This result highlights the effectiveness of ensemble learning in handling feature-rich datasets. The Random Forest model achieved a higher Quadratic Weighted Kappa score, indicating better agreement with human-rated scores. Furthermore, feature selection played a critical role in improving model accuracy, emphasising the importance of identifying the most relevant attributes for prediction, however this is one point of the project that needs refinement. Cross-validation techniques ensured that our model was robust and generalisable to unseen data. Visualisations in the form of confusion matrices, provided valuable insights into classification performance and areas for improvement. <br>\n",
    "<br>\n",
    "Overall, this study demonstrates the potential of machine learning in automating essay scoring while underscoring the need for careful model selection and validation. Future work could explore additional feature engineering techniques, deep learning approaches, or hybrid models to further enhance predictive accuracy."
   ]
  },
  {
   "cell_type": "code",
   "execution_count": null,
   "id": "454891d1-fff8-4eed-a92e-d4aa6d3b69f3",
   "metadata": {},
   "outputs": [],
   "source": []
  },
  {
   "cell_type": "code",
   "execution_count": null,
   "id": "2e83827c-6c2d-47b2-b2bd-febea320402a",
   "metadata": {},
   "outputs": [],
   "source": []
  }
 ],
 "metadata": {
  "kernelspec": {
   "display_name": "Python 3 (ipykernel)",
   "language": "python",
   "name": "python3"
  },
  "language_info": {
   "codemirror_mode": {
    "name": "ipython",
    "version": 3
   },
   "file_extension": ".py",
   "mimetype": "text/x-python",
   "name": "python",
   "nbconvert_exporter": "python",
   "pygments_lexer": "ipython3",
   "version": "3.12.7"
  }
 },
 "nbformat": 4,
 "nbformat_minor": 5
}
